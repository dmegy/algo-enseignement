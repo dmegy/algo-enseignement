{
 "cells": [
  {
   "cell_type": "code",
   "execution_count": 4,
   "id": "5bf3d0a6",
   "metadata": {},
   "outputs": [
    {
     "name": "stdout",
     "output_type": "stream",
     "text": [
      "1\n"
     ]
    }
   ],
   "source": [
    "def fact(n):\n",
    "    x=1\n",
    "    for i in range (1,n+1):\n",
    "        x=x*i\n",
    "    return(x)\n",
    "print(fact(0))\n",
    "        "
   ]
  },
  {
   "cell_type": "code",
   "execution_count": 6,
   "id": "f80a6f8d",
   "metadata": {},
   "outputs": [
    {
     "name": "stdout",
     "output_type": "stream",
     "text": [
      "1.0\n"
     ]
    }
   ],
   "source": [
    "def séries(x,n):\n",
    "    s=0\n",
    "    for i in range (n+1):\n",
    "        \n",
    "        s=s+(x**i)/fact(i)\n",
    "    return(s)\n",
    "print(séries(3,0))"
   ]
  },
  {
   "cell_type": "code",
   "execution_count": 79,
   "id": "e5101d80",
   "metadata": {
    "scrolled": false
   },
   "outputs": [
    {
     "data": {
      "text/plain": [
       "[<matplotlib.lines.Line2D at 0x1d1032095b0>]"
      ]
     },
     "execution_count": 79,
     "metadata": {},
     "output_type": "execute_result"
    },
    {
     "data": {
      "image/png": "[encoded data removed]",
      "text/plain": [
       "<Figure size 640x480 with 1 Axes>"
      ]
     },
     "metadata": {},
     "output_type": "display_data"
    }
   ],
   "source": [
    "import pylab as py\n",
    "x=py.linspace(-10,10,100)\n",
    "y=py.exp(x)\n",
    "py.plot(x,y,label='y=exp(x)',c='b')\n",
    "z=séries(x,5)\n",
    "w=séries(x,10)\n",
    "py.plot(x,z,c='r',label='y=f5(x)')\n",
    "py.plot(x,w,c='g',label='y=f10(x)')\n"
   ]
  },
  {
   "cell_type": "code",
   "execution_count": 15,
   "id": "65370fba",
   "metadata": {},
   "outputs": [
    {
     "name": "stdout",
     "output_type": "stream",
     "text": [
      "[3, 5, 7, 11, 13, 17, 19, 23, 29, 31, 37, 41, 43, 47, 53, 59, 61, 67, 71, 73, 79, 83, 89, 97, 101, 103, 107, 109, 113, 127, 131, 137, 139, 149, 151, 157, 163, 167, 173, 179, 181, 191, 193, 197, 199, 211, 223, 227, 229, 233]\n"
     ]
    }
   ],
   "source": [
    "def prem(n):\n",
    "    L=[]\n",
    "    a=2\n",
    "    i=2\n",
    "    while len(L)<n:\n",
    "        i=i+1\n",
    "        while i//a!=i/a:\n",
    "            \n",
    "            a=a+1\n",
    "        if a==i:\n",
    "            L.append(i)\n",
    "        a=2\n",
    "    return(L)\n",
    "print(prem(50))\n",
    "\n",
    "        \n",
    "            "
   ]
  },
  {
   "cell_type": "code",
   "execution_count": 17,
   "id": "c6ffc04b",
   "metadata": {},
   "outputs": [
    {
     "name": "stdout",
     "output_type": "stream",
     "text": [
      "[2, 4, 6, 10, 12, 16, 18, 22, 28, 30, 36, 40, 42, 46, 52, 58, 60, 66, 70, 72, 78, 82, 88, 96, 100, 102, 106, 108, 112, 126, 130, 136, 138, 148, 150, 156, 162, 166, 172, 178, 180, 190, 192, 196, 198, 210, 222, 226, 228, 232]\n"
     ]
    }
   ],
   "source": [
    "def germain(n):\n",
    "    L=prem(n)\n",
    "    K=[]\n",
    "    for i in range (n):\n",
    "        K.append(L[i]-1)\n",
    "    return(K)\n",
    "print(germain(50))      "
   ]
  },
  {
   "cell_type": "code",
   "execution_count": 18,
   "id": "76abe6ac",
   "metadata": {},
   "outputs": [],
   "source": [
    "def fibo_modulaire(n,m):\n",
    "    L=[]\n",
    "    u0=0\n",
    "    u1=1\n",
    "    L.append(0)\n",
    "    L.append(1%m)\n",
    "    for i in range (2,n):\n",
    "        temp=u1\n",
    "        u1=u0+u1\n",
    "        u0=temp\n",
    "        L.append(u1%m)\n",
    "    return(L)\n",
    "\n",
    "        "
   ]
  },
  {
   "cell_type": "code",
   "execution_count": 19,
   "id": "f4a44c44",
   "metadata": {},
   "outputs": [
    {
     "name": "stdout",
     "output_type": "stream",
     "text": [
      "[[2, 1, 3], [5, 4, 6]]\n"
     ]
    }
   ],
   "source": [
    "def triplet(L):\n",
    "    K=[]\n",
    "    M=[]\n",
    "    for i in range (len(L)-2):\n",
    "        if L[i]>L[i+1] and L[i]<L[i+2]:\n",
    "            M.append(L[i])\n",
    "            M.append(L[i+1])\n",
    "            M.append(L[i+2])\n",
    "            K.append(M)\n",
    "        M=[]\n",
    "    return(K)\n",
    "        \n",
    "print(triplet([2,1,3,4,5,4,6]))       "
   ]
  },
  {
   "cell_type": "code",
   "execution_count": 21,
   "id": "d45e6191",
   "metadata": {},
   "outputs": [
    {
     "name": "stdout",
     "output_type": "stream",
     "text": [
      "[26543]\n"
     ]
    }
   ],
   "source": [
    "import random\n",
    "def alea(n):\n",
    "    L=[]\n",
    "    for i in range (n):\n",
    "        L.append(random.randint(1,10**5))\n",
    "    return(L)\n",
    "print(alea(1))"
   ]
  },
  {
   "cell_type": "code",
   "execution_count": 23,
   "id": "40c556c7",
   "metadata": {},
   "outputs": [
    {
     "name": "stdout",
     "output_type": "stream",
     "text": [
      "0.16721\n"
     ]
    }
   ],
   "source": [
    "def compte(n):\n",
    "    return(len(triplet(alea(n))))\n",
    "print(compte(10**5)/10**5)\n"
   ]
  },
  {
   "cell_type": "code",
   "execution_count": 26,
   "id": "b454e4e0",
   "metadata": {},
   "outputs": [
    {
     "name": "stdout",
     "output_type": "stream",
     "text": [
      "240\n"
     ]
    }
   ],
   "source": [
    "#Q5\n",
    "print(len(triplet(fibo_modulaire(1000,10**5))))\n",
    "#il y a 240 triplets"
   ]
  },
  {
   "cell_type": "code",
   "execution_count": 27,
   "id": "fb3ef896",
   "metadata": {},
   "outputs": [],
   "source": [
    "def ex4(m,M):\n",
    "    N=[]\n",
    "    s=0\n",
    "    for i in range (len(M)-1):\n",
    "        for j in range (m):\n",
    "            if M[j]==i:\n",
    "                s=s+1\n",
    "        N.append(s)\n",
    "        s=0\n",
    "    return(N)"
   ]
  },
  {
   "cell_type": "code",
   "execution_count": 97,
   "id": "3688bdf3",
   "metadata": {},
   "outputs": [
    {
     "name": "stdout",
     "output_type": "stream",
     "text": [
      "[2, 3, 4, 4, 5, 7, 9, 12, 88, 325, 456, 7654]\n"
     ]
    }
   ],
   "source": [
    "def fusion(L1,L2):\n",
    "    L=[]\n",
    "    a=0\n",
    "    b=0\n",
    "    s=0\n",
    "    t=0\n",
    "    for i in range (len(L1)+len(L2)):\n",
    "         \n",
    "        \n",
    "        \n",
    "        if L1[a]<=L2[b] and s==0:\n",
    "            L.append(L1[a])\n",
    "            a=a+1\n",
    "            if a==len(L1):\n",
    "                a=a-1\n",
    "                s=1\n",
    "                \n",
    "                    \n",
    "        if L1[a]>L2[b] and t==0:\n",
    "            L.append(L2[b])\n",
    "            b=b+1\n",
    "            if b==len(L2):\n",
    "                b=b-1\n",
    "                t=1\n",
    "        if t==1 and a<len(L1)-1:\n",
    "            L.append(L1[a])\n",
    "            a=a+1\n",
    "        if s==1 and b<len(L2)-1:\n",
    "            L.append(L2[b])\n",
    "            b=b+1\n",
    "        if a==len(L1)-1 and t==1 and s==0:\n",
    "            L.append(L1[a])\n",
    "            s=1\n",
    "        if s==1 and b==len(L2)-1 and t==0:\n",
    "            L.append(L2[b])\n",
    "            t=1\n",
    "    return(L)\n",
    "print(fusion([2,4,5,88,325,456,7654],[3,4,7,9,12]))\n",
    "\n",
    "           \n",
    "        "
   ]
  },
  {
   "cell_type": "code",
   "execution_count": null,
   "id": "9a184624",
   "metadata": {},
   "outputs": [],
   "source": [
    "\n",
    "        "
   ]
  },
  {
   "cell_type": "code",
   "execution_count": 51,
   "id": "6d7bceee",
   "metadata": {},
   "outputs": [
    {
     "name": "stdout",
     "output_type": "stream",
     "text": [
      "1.6564695618744745\n",
      "(1.7182818284590453, 1.9076760487502457e-14)\n"
     ]
    }
   ],
   "source": [
    "import scipy.integrate as sci\n",
    "def f(x):\n",
    "    return(py.exp(x))\n",
    "\n",
    "\n",
    "def somme(a,b,n):\n",
    "    s=0\n",
    "    for i in range (1,n):\n",
    "        \n",
    "        s=s+(f(a+i*(b-a)/n)/n)\n",
    "    return(s)\n",
    "print(somme(0,1,30))\n",
    "print(sci.quad(f,0,1))"
   ]
  },
  {
   "cell_type": "code",
   "execution_count": 75,
   "id": "9a82907f",
   "metadata": {},
   "outputs": [
    {
     "name": "stdout",
     "output_type": "stream",
     "text": [
      "None\n"
     ]
    },
    {
     "data": {
      "image/png": "[encoded data removed]",
      "text/plain": [
       "<Figure size 640x480 with 1 Axes>"
      ]
     },
     "metadata": {},
     "output_type": "display_data"
    }
   ],
   "source": [
    "def graphe (a,b,n):\n",
    "    \n",
    "    x=py.linspace(a,b,1000)\n",
    "    y=f(x)\n",
    "    py.plot(x,y)\n",
    "    for i in range (n):\n",
    "        py.plot([a+i/n,a+(i+1)/n],[f(a+i*(b-a)/n),f(a+(i)*(b-a)/n)],c='r')\n",
    "        py.plot([a+i/n,a+(i)/n],[f(a+(i)*(b-a)/n),0],c='r')\n",
    "        py.plot([a+(i+1)/n,a+(i+1)/n],[f(a+(i)*(b-a)/n),0],c='r')\n",
    "        \n",
    "    \n",
    "print (graphe(0,1,5))        \n",
    "    \n",
    "    "
   ]
  },
  {
   "cell_type": "code",
   "execution_count": null,
   "id": "4d10f58d",
   "metadata": {},
   "outputs": [],
   "source": []
  }
 ],
 "metadata": {
  "kernelspec": {
   "display_name": "Python 3",
   "language": "python",
   "name": "python3"
  },
  "language_info": {
   "codemirror_mode": {
    "name": "ipython",
    "version": 3
   },
   "file_extension": ".py",
   "mimetype": "text/x-python",
   "name": "python",
   "nbconvert_exporter": "python",
   "pygments_lexer": "ipython3",
   "version": "3.10.12"
  }
 },
 "nbformat": 4,
 "nbformat_minor": 5
}
